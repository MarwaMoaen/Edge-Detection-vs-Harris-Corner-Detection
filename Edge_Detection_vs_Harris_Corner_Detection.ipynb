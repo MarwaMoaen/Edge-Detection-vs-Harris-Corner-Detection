{
  "nbformat": 4,
  "nbformat_minor": 0,
  "metadata": {
    "colab": {
      "provenance": []
    },
    "kernelspec": {
      "name": "python3",
      "display_name": "Python 3"
    },
    "language_info": {
      "name": "python"
    }
  },
  "cells": [
    {
      "cell_type": "markdown",
      "source": [
        "# 🌆 Edge Detection vs Harris Corner Detection (Real-World Example)\n",
        "In this notebook, I’ll compare **Edge Detection** and **Harris Corner Detection**  \n",
        "using a real-world image of architecture.  \n",
        "\n",
        "This makes the results easier to relate to: buildings have **strong edges** and **sharp corners**.  \n"
      ],
      "metadata": {
        "id": "XobTHLoDDmU7"
      }
    },
    {
      "cell_type": "code",
      "source": [
        "import cv2\n",
        "import numpy as np\n",
        "import matplotlib.pyplot as plt\n",
        "\n",
        "# Load a real-world image from OpenCV samples (replace with your own photo for LinkedIn!)\n",
        "img = cv2.imread(cv2.samples.findFile('building.jpg'))\n",
        "img_gray = cv2.cvtColor(img, cv2.COLOR_BGR2GRAY)\n",
        "\n",
        "plt.figure(figsize=(6,6))\n",
        "plt.imshow(cv2.cvtColor(img, cv2.COLOR_BGR2RGB))\n",
        "plt.title(\"Original Real-World Image\")\n",
        "plt.axis(\"off\")\n",
        "plt.show()\n"
      ],
      "metadata": {
        "colab": {
          "base_uri": "https://localhost:8080/",
          "height": 233
        },
        "id": "elqvLydxHMs1",
        "outputId": "be2f6059-9f98-44c1-82ea-156b81283039"
      },
      "execution_count": 1,
      "outputs": [
        {
          "output_type": "error",
          "ename": "error",
          "evalue": "OpenCV(4.12.0) /io/opencv/modules/core/src/utils/samples.cpp:64: error: (-2:Unspecified error) OpenCV samples: Can't find required data file: building.jpg in function 'findFile'\n",
          "traceback": [
            "\u001b[0;31m---------------------------------------------------------------------------\u001b[0m",
            "\u001b[0;31merror\u001b[0m                                     Traceback (most recent call last)",
            "\u001b[0;32m/tmp/ipython-input-3358482176.py\u001b[0m in \u001b[0;36m<cell line: 0>\u001b[0;34m()\u001b[0m\n\u001b[1;32m      4\u001b[0m \u001b[0;34m\u001b[0m\u001b[0m\n\u001b[1;32m      5\u001b[0m \u001b[0;31m# Load a real-world image from OpenCV samples (replace with your own photo for LinkedIn!)\u001b[0m\u001b[0;34m\u001b[0m\u001b[0;34m\u001b[0m\u001b[0m\n\u001b[0;32m----> 6\u001b[0;31m \u001b[0mimg\u001b[0m \u001b[0;34m=\u001b[0m \u001b[0mcv2\u001b[0m\u001b[0;34m.\u001b[0m\u001b[0mimread\u001b[0m\u001b[0;34m(\u001b[0m\u001b[0mcv2\u001b[0m\u001b[0;34m.\u001b[0m\u001b[0msamples\u001b[0m\u001b[0;34m.\u001b[0m\u001b[0mfindFile\u001b[0m\u001b[0;34m(\u001b[0m\u001b[0;34m'building.jpg'\u001b[0m\u001b[0;34m)\u001b[0m\u001b[0;34m)\u001b[0m\u001b[0;34m\u001b[0m\u001b[0;34m\u001b[0m\u001b[0m\n\u001b[0m\u001b[1;32m      7\u001b[0m \u001b[0mimg_gray\u001b[0m \u001b[0;34m=\u001b[0m \u001b[0mcv2\u001b[0m\u001b[0;34m.\u001b[0m\u001b[0mcvtColor\u001b[0m\u001b[0;34m(\u001b[0m\u001b[0mimg\u001b[0m\u001b[0;34m,\u001b[0m \u001b[0mcv2\u001b[0m\u001b[0;34m.\u001b[0m\u001b[0mCOLOR_BGR2GRAY\u001b[0m\u001b[0;34m)\u001b[0m\u001b[0;34m\u001b[0m\u001b[0;34m\u001b[0m\u001b[0m\n\u001b[1;32m      8\u001b[0m \u001b[0;34m\u001b[0m\u001b[0m\n",
            "\u001b[0;31merror\u001b[0m: OpenCV(4.12.0) /io/opencv/modules/core/src/utils/samples.cpp:64: error: (-2:Unspecified error) OpenCV samples: Can't find required data file: building.jpg in function 'findFile'\n"
          ]
        }
      ]
    },
    {
      "cell_type": "markdown",
      "source": [
        "## 1️⃣ Edge Detection\n",
        "Here we use **Canny** to extract the outlines of the buildings.  \n",
        "\n",
        "Edges highlight where **intensity changes** — which often correspond to **object boundaries**.\n"
      ],
      "metadata": {
        "id": "AHxuiUo7Drh6"
      }
    },
    {
      "cell_type": "code",
      "source": [
        "# Edge detection\n",
        "edges = cv2.Canny(img_gray, 100, 200)\n",
        "\n",
        "plt.figure(figsize=(6,6))\n",
        "plt.imshow(edges, cmap='gray')\n",
        "plt.title(\"Canny Edge Detection (Buildings)\")\n",
        "plt.axis(\"off\")\n",
        "plt.show()\n"
      ],
      "metadata": {
        "id": "5ClQTHvkIyKW"
      },
      "execution_count": null,
      "outputs": []
    },
    {
      "cell_type": "markdown",
      "source": [
        "## 2️⃣ Harris Corner Detection\n",
        "Now let’s apply Harris.  \n",
        "\n",
        "Corners appear where edges **meet at an angle** — perfect for detecting building corners and window frames.\n"
      ],
      "metadata": {
        "id": "ikZnFk28I076"
      }
    },
    {
      "cell_type": "code",
      "source": [
        "# Harris Corner Detection\n",
        "gray = np.float32(img_gray)\n",
        "harris = cv2.cornerHarris(gray, blockSize=2, ksize=3, k=0.04)\n",
        "harris = cv2.dilate(harris, None)\n",
        "\n",
        "img_harris = img.copy()\n",
        "img_harris[harris > 0.01 * harris.max()] = [255, 0, 0]\n",
        "\n",
        "plt.figure(figsize=(6,6))\n",
        "plt.imshow(cv2.cvtColor(img_harris, cv2.COLOR_BGR2RGB))\n",
        "plt.title(\"Harris Corner Detection (Buildings)\")\n",
        "plt.axis(\"off\")\n",
        "plt.show()\n"
      ],
      "metadata": {
        "id": "mTXK13CHI3UC"
      },
      "execution_count": null,
      "outputs": []
    },
    {
      "cell_type": "markdown",
      "source": [
        "## 3️⃣ Edges vs Corners in Real Life\n",
        "- **Edges**: capture the *shapes of buildings and streets*.  \n",
        "- **Corners**: capture *junctions, windows, rooftops*.  \n",
        "\n",
        "Both are crucial for computer vision tasks:  \n",
        "- Self-driving cars → edges detect lanes, corners track landmarks.  \n",
        "- Augmented reality → corners help anchor virtual objects.  \n"
      ],
      "metadata": {
        "id": "ekc0tuMBI6JC"
      }
    },
    {
      "cell_type": "markdown",
      "source": [
        "## 🎯 Final Thoughts\n",
        "In real-world scenes:  \n",
        "- **Edge detection** gives the *big picture outlines*.  \n",
        "- **Harris corners** give *precise anchor points*.  \n",
        "\n",
        "Together, they are the foundation of many AI vision applications.  \n",
        "\n",
        "This project is part of my #Huawei AI Scholarship journey 🚀  \n",
        "\n",
        "➡️ If you’re into computer vision, how would you use *edges vs corners* in your own work?  \n",
        "#ComputerVision #AI #MachineLearning #Huawei\n"
      ],
      "metadata": {
        "id": "ErHJ78lMI8dS"
      }
    }
  ]
}